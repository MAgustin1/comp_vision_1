{
 "cells": [
  {
   "cell_type": "code",
   "execution_count": 73,
   "metadata": {},
   "outputs": [],
   "source": [
    "\n",
    "import numpy as np\n",
    "import cv2 as cv\n",
    "import matplotlib.pyplot as plt\n",
    "import time"
   ]
  },
  {
   "cell_type": "code",
   "execution_count": 74,
   "metadata": {},
   "outputs": [],
   "source": [
    "vid_1 = 'slow_traffic_small.mp4'\n",
    "vid_2 = 'vtest.avi'\n",
    "\n",
    "capture = cv.VideoCapture(vid_2)\n",
    "\n",
    "if not capture.isOpened:\n",
    "    print('Falla al abrir el archivo: ' + vid_2)\n",
    "    exit(0)"
   ]
  },
  {
   "attachments": {},
   "cell_type": "markdown",
   "metadata": {},
   "source": [
    "Método Naive"
   ]
  },
  {
   "cell_type": "code",
   "execution_count": 75,
   "metadata": {},
   "outputs": [],
   "source": [
    "naive_total_elapsed = []\n",
    "\n",
    "def calculate_background(frames): \n",
    "    start = time.time()\n",
    "   \n",
    "    new_mask = np.median(frames, axis=0)\n",
    "\n",
    "    end = time.time()\n",
    "    elapsed = end - start\n",
    "    naive_total_elapsed.append(elapsed)\n",
    "    return new_mask.astype(np.uint8)\n",
    "                \n"
   ]
  },
  {
   "attachments": {},
   "cell_type": "markdown",
   "metadata": {},
   "source": [
    "Método KNN"
   ]
  },
  {
   "cell_type": "code",
   "execution_count": 76,
   "metadata": {},
   "outputs": [],
   "source": [
    "open_cv_times = []    \n",
    "\n",
    "metodo = 'KNN'\n",
    "if metodo == 'KNN':\n",
    "    backSub = cv.createBackgroundSubtractorKNN()\n",
    "\n"
   ]
  },
  {
   "cell_type": "code",
   "execution_count": 77,
   "metadata": {},
   "outputs": [],
   "source": [
    "def substract_backgorund(frames_count, capture, frame_spaces=35):\n",
    "    ret, frame = capture.read()\n",
    "    i = 0\n",
    "    FRAMES = frames_count\n",
    "    frames_to_add = FRAMES - 1\n",
    "    frames = np.zeros((FRAMES, frame.shape[0], frame.shape[1], frame.shape[2]))\n",
    "    should_add_frames = True\n",
    "    add_frames_step = True\n",
    "    frames_added = 0\n",
    "    background = frames[0,:,:,:]\n",
    "    first_frames = True\n",
    "    while True:\n",
    "        # Leemos frames\n",
    "        ret, frame = capture.read()\n",
    "        if frame is None:\n",
    "            break\n",
    "        \n",
    "        if first_frames:\n",
    "            if frames_added < FRAMES:\n",
    "                frames[frames_added] = frame\n",
    "                frames_added = frames_added + 1\n",
    "                background = calculate_background(frames)\n",
    "            else:\n",
    "                first_frames = False\n",
    "                frames_added = 0\n",
    "\n",
    "        if i % frame_spaces == 0 and not first_frames:\n",
    "            if frames_added < frames_to_add:\n",
    "                frames[frames_added] = frame\n",
    "                frames_added = frames_added + 1\n",
    "                background = calculate_background(frames)\n",
    "            else:\n",
    "                frames[frames_added] = background\n",
    "                frames_added = 0\n",
    "            \n",
    "        i = i + 1\n",
    "  \n",
    "        new_frame = cv.subtract(background, frame)\n",
    "        new_frame[new_frame >30] = 255\n",
    "\n",
    "        # Aplico método de opencv y mido el tiempo\n",
    "        opencv_start = time.time()\n",
    "        fgMask = backSub.apply(frame)\n",
    "        opencv_end = time.time()\n",
    "        opencv_elapsed = opencv_end - opencv_start\n",
    "        open_cv_times.append(opencv_elapsed)\n",
    "\n",
    "        cv.imshow('Frames', frame)\n",
    "        cv.imshow('Método Naive', new_frame)\n",
    "        cv.imshow('Fondo', background)\n",
    "        cv.imshow('FG Mask', fgMask)\n",
    "\n",
    "        keyboard = cv.waitKey(30)\n",
    "        if keyboard == 'q' or keyboard == 27:\n",
    "            break\n",
    "        \n",
    "    cv.destroyAllWindows()\n",
    "    capture.release()"
   ]
  },
  {
   "attachments": {},
   "cell_type": "markdown",
   "metadata": {},
   "source": [
    "# Implementación"
   ]
  },
  {
   "cell_type": "code",
   "execution_count": 78,
   "metadata": {},
   "outputs": [],
   "source": [
    "substract_backgorund(5, capture, 35)"
   ]
  },
  {
   "attachments": {},
   "cell_type": "markdown",
   "metadata": {},
   "source": [
    "# Conclusiones"
   ]
  },
  {
   "attachments": {},
   "cell_type": "markdown",
   "metadata": {},
   "source": [
    "Tiempo promedio algoritmo OpenCV vs Naive"
   ]
  },
  {
   "cell_type": "code",
   "execution_count": 79,
   "metadata": {},
   "outputs": [
    {
     "name": "stdout",
     "output_type": "stream",
     "text": [
      "Método Naive: 143.699967\n",
      "Método OpenCV:  7.446103\n"
     ]
    }
   ],
   "source": [
    "avg_naive = np.average(naive_total_elapsed)*1000 # seconds to ms\n",
    "print(\"Método Naive: {:.6f}\".format(avg_naive))\n",
    "avg_opencv = np.average(open_cv_times)*1000 # seconds to ms\n",
    "print(\"Método OpenCV:  {:.6f}\".format(avg_opencv))"
   ]
  },
  {
   "attachments": {},
   "cell_type": "markdown",
   "metadata": {},
   "source": [
    "Como se puede observar, el algoritmo de Naive es mucho más lento q el de OpenCV."
   ]
  },
  {
   "attachments": {},
   "cell_type": "markdown",
   "metadata": {},
   "source": [
    "Ahora vemos la cantidad de calculos de fondos de ambos algoritmos."
   ]
  },
  {
   "cell_type": "code",
   "execution_count": 80,
   "metadata": {},
   "outputs": [
    {
     "name": "stdout",
     "output_type": "stream",
     "text": [
      "Método Naive:  23\n",
      "Método OpenCV:  794\n"
     ]
    }
   ],
   "source": [
    "print(\"Método Naive:  \" + str(len(naive_total_elapsed)))\n",
    "print(\"Método OpenCV:  \" + str(len(open_cv_times)))"
   ]
  },
  {
   "attachments": {},
   "cell_type": "markdown",
   "metadata": {},
   "source": [
    "El método de OpenCV se ejecuta muchas más veces que el Naive."
   ]
  },
  {
   "attachments": {},
   "cell_type": "markdown",
   "metadata": {},
   "source": [
    "Por último vemos la suma de los tiempos en los qe se ejecutaron ambos algoritmos."
   ]
  },
  {
   "cell_type": "code",
   "execution_count": 81,
   "metadata": {},
   "outputs": [
    {
     "name": "stdout",
     "output_type": "stream",
     "text": [
      "Suma de tiempo método Naive: 3305.099249\n",
      "Suma de tiempo método OpenCV:  5912.206173\n"
     ]
    }
   ],
   "source": [
    "sum_naive = np.sum(naive_total_elapsed)*1000 # seconds to ms\n",
    "sum_opencv = np.sum(open_cv_times)*1000 # seconds to ms\n",
    "\n",
    "print(\"Suma de tiempo método Naive: {:.6f}\".format(sum_naive))\n",
    "print(\"Suma de tiempo método OpenCV:  {:.6f}\".format(sum_opencv))"
   ]
  }
 ],
 "metadata": {
  "kernelspec": {
   "display_name": "opencv",
   "language": "python",
   "name": "python3"
  },
  "language_info": {
   "codemirror_mode": {
    "name": "ipython",
    "version": 3
   },
   "file_extension": ".py",
   "mimetype": "text/x-python",
   "name": "python",
   "nbconvert_exporter": "python",
   "pygments_lexer": "ipython3",
   "version": "3.8.5"
  },
  "orig_nbformat": 4,
  "vscode": {
   "interpreter": {
    "hash": "d5589eb974270d2b3ddf7c5a3a009b8ab9fd0444cdcd8053911fddeb2693b25d"
   }
  }
 },
 "nbformat": 4,
 "nbformat_minor": 2
}
