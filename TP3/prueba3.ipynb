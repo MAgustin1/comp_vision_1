{
 "cells": [
  {
   "cell_type": "markdown",
   "metadata": {},
   "source": []
  },
  {
   "cell_type": "code",
   "execution_count": 9,
   "metadata": {},
   "outputs": [],
   "source": [
    "import numpy as np\n",
    "import cv2 as cv\n",
    "import imutils\n",
    "import matplotlib as plt\n",
    "import os"
   ]
  },
  {
   "cell_type": "code",
   "execution_count": 5,
   "metadata": {},
   "outputs": [],
   "source": [
    "template = cv.imread('template/pattern.png')\n",
    "template = cv.cvtColor(template, cv.COLOR_BGR2GRAY)\n",
    "template = cv.Canny(template, 50, 200)\n",
    "(tH, tW) = template.shape[:2]\n",
    "cv.imshow(\"Template\", template)\n",
    "cv.waitKey(0)\n",
    "cv.destroyAllWindows()"
   ]
  },
  {
   "cell_type": "code",
   "execution_count": 11,
   "metadata": {},
   "outputs": [],
   "source": [
    "imputs_images= \"C:/Users/Usuario/Desktop/IA/computer_vision/TP3/images\"\n",
    "images_names= os.listdir(imputs_images)"
   ]
  },
  {
   "cell_type": "code",
   "execution_count": 14,
   "metadata": {},
   "outputs": [
    {
     "data": {
      "text/plain": [
       "32"
      ]
     },
     "execution_count": 14,
     "metadata": {},
     "output_type": "execute_result"
    },
    {
     "ename": "",
     "evalue": "",
     "output_type": "error",
     "traceback": [
      "\u001b[1;31mEl Kernel se bloqueó al ejecutar código en la celda actual o en una celda anterior. Revise el código de las celdas para identificar una posible causa del error. Haga clic <a href='https://aka.ms/vscodeJupyterKernelCrash'>aquí</a> para obtener más información. Vea el [registro] de Jupyter (command:jupyter.viewOutput) para obtener más detalles."
     ]
    }
   ],
   "source": [
    "img = cv.imread('images/COCA-COLA-LOGO.jpg')\n",
    "gray= cv.cvtColor(img, cv.COLOR_BGR2GRAY)\n",
    "found = None\n",
    "\n",
    "for scale in np.linspace(0.2, 1.0, 5)[::-1]:\n",
    "    resized = imutils.resize(gray, width= int(gray.shape[1]*scale))\n",
    "    r = gray.shape[1] / float(resized.shape[1])\n",
    "\n",
    "    if resized.shape[0] < tH or resized.shape[1] < tW:\n",
    "         break\n",
    "\n",
    "    edged = cv.Canny(resized, 50, 200)\n",
    "    result = cv.matchTemplate(edged, template, cv.TM_CCOEFF)\n",
    "    (_, maxVal, _, maxLoc) =cv.minMaxLoc(result)\n",
    "\n",
    "        #if args.get(\"Visualizar\", False):\n",
    "        #    clone = np.dstack([edged, edged, edged])\n",
    "        #    cv.rectangle(clone, (maxLoc[0], maxLoc[1]), (maxLoc[0] + tW, maxLoc[1] + tH), (0, 0, 255), 2)\n",
    "        #    cv.imshow(\"Visualize\", clone)\n",
    "        #    cv.waitKey(0)\n",
    "        \n",
    "    if found is None or maxVal > found[0]:\n",
    "         found = (maxVal, maxLoc, r)\n",
    "\n",
    "(_, maxLoc, r) = found\n",
    "(startX, startY) = (int(maxLoc[0] * r), int(maxLoc[1] * r))\n",
    "(endX, endY) = (int((maxLoc[0] + tW) * r), int((maxLoc[1] + tH) * r))\n",
    "\n",
    "cv.rectangle(img, (startX, startY), (endX, endY), (0, 0, 255), 2)\n",
    "cv.imshow(\"Image\", img)\n",
    "cv.waitKey(0)"
   ]
  },
  {
   "cell_type": "code",
   "execution_count": 13,
   "metadata": {},
   "outputs": [
    {
     "ename": "error",
     "evalue": "OpenCV(4.6.0) :-1: error: (-5:Bad argument) in function 'cvtColor'\n> Overload resolution failed:\n>  - src is not a numpy array, neither a scalar\n>  - Expected Ptr<cv::UMat> for argument 'src'\n",
     "output_type": "error",
     "traceback": [
      "\u001b[1;31m---------------------------------------------------------------------------\u001b[0m",
      "\u001b[1;31merror\u001b[0m                                     Traceback (most recent call last)",
      "Cell \u001b[1;32mIn [13], line 4\u001b[0m\n\u001b[0;32m      2\u001b[0m image_path \u001b[39m=\u001b[39m imputs_images \u001b[39m+\u001b[39m \u001b[39m\"\u001b[39m\u001b[39m/\u001b[39m\u001b[39m\"\u001b[39m \u001b[39m+\u001b[39m image_name\n\u001b[0;32m      3\u001b[0m img \u001b[39m=\u001b[39m cv\u001b[39m.\u001b[39mimread(image_path)\n\u001b[1;32m----> 4\u001b[0m gray \u001b[39m=\u001b[39m cv\u001b[39m.\u001b[39;49mcvtColor(image_path, cv\u001b[39m.\u001b[39;49mCOLOR_BGR2GRAY)\n\u001b[0;32m      5\u001b[0m found \u001b[39m=\u001b[39m \u001b[39mNone\u001b[39;00m\n\u001b[0;32m      7\u001b[0m \u001b[39mfor\u001b[39;00m scale \u001b[39min\u001b[39;00m np\u001b[39m.\u001b[39mlinspace(\u001b[39m0.2\u001b[39m, \u001b[39m1.0\u001b[39m, \u001b[39m5\u001b[39m)[::\u001b[39m-\u001b[39m\u001b[39m1\u001b[39m]:\n",
      "\u001b[1;31merror\u001b[0m: OpenCV(4.6.0) :-1: error: (-5:Bad argument) in function 'cvtColor'\n> Overload resolution failed:\n>  - src is not a numpy array, neither a scalar\n>  - Expected Ptr<cv::UMat> for argument 'src'\n"
     ]
    }
   ],
   "source": [
    "for image_name in images_names:\n",
    "    image_path = imputs_images + \"/\" + image_name\n",
    "    img = cv.imread(image_path)\n",
    "    gray = cv.cvtColor(image_path, cv.COLOR_BGR2GRAY)\n",
    "    found = None\n",
    "\n",
    "    for scale in np.linspace(0.2, 1.0, 5)[::-1]:\n",
    "        resized = imutils.resize(gray, width= int(gray.shape[1]*scale))\n",
    "        r = gray.shape[1] / float(resized.shape[1])\n",
    "\n",
    "        if resized.shape[0] < tH or resized.shape[1] < tW:\n",
    "            break\n",
    "\n",
    "        edged = cv.Canny(resized, 50, 200)\n",
    "        result = cv.matchTemplate(edged, template, cv.TM_CCOEFF)\n",
    "        (_, maxVal, _, maxLoc) =cv.minMaxLoc(result)\n",
    "\n",
    "        #if args.get(\"Visualizar\", False):\n",
    "        #    clone = np.dstack([edged, edged, edged])\n",
    "        #    cv.rectangle(clone, (maxLoc[0], maxLoc[1]), (maxLoc[0] + tW, maxLoc[1] + tH), (0, 0, 255), 2)\n",
    "        #    cv.imshow(\"Visualize\", clone)\n",
    "        #    cv.waitKey(0)\n",
    "        \n",
    "        if found is None or maxVal > found[0]:\n",
    "            found = (maxVal, maxLoc, r)\n",
    "\n",
    "    (_, maxLoc, r) = found\n",
    "    (startX, startY) = (int(maxLoc[0] * r), int(maxLoc[1] * r))\n",
    "    (endX, endY) = (int((maxLoc[0] + tW) * r), int((maxLoc[1] + tH) * r))\n",
    "\n",
    "    cv.rectangle(img, (startX, startY), (endX, endY), (0, 0, 255), 2)\n",
    "    cv.imshow(\"Image\", img)\n",
    "    cv.waitKey(0)"
   ]
  }
 ],
 "metadata": {
  "kernelspec": {
   "display_name": "Python 3.8.5 ('opencv')",
   "language": "python",
   "name": "python3"
  },
  "language_info": {
   "codemirror_mode": {
    "name": "ipython",
    "version": 3
   },
   "file_extension": ".py",
   "mimetype": "text/x-python",
   "name": "python",
   "nbconvert_exporter": "python",
   "pygments_lexer": "ipython3",
   "version": "3.8.5"
  },
  "orig_nbformat": 4,
  "vscode": {
   "interpreter": {
    "hash": "d5589eb974270d2b3ddf7c5a3a009b8ab9fd0444cdcd8053911fddeb2693b25d"
   }
  }
 },
 "nbformat": 4,
 "nbformat_minor": 2
}
